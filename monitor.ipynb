{
 "cells": [
  {
   "cell_type": "code",
   "execution_count": 14,
   "metadata": {},
   "outputs": [
    {
     "ename": "KeyboardInterrupt",
     "evalue": "",
     "output_type": "error",
     "traceback": [
      "\u001b[0;31m---------------------------------------------------------------------------\u001b[0m",
      "\u001b[0;31mKeyboardInterrupt\u001b[0m                         Traceback (most recent call last)",
      "Cell \u001b[0;32mIn [14], line 31\u001b[0m\n\u001b[1;32m     29\u001b[0m clear_output(wait\u001b[39m=\u001b[39m\u001b[39mTrue\u001b[39;00m)\n\u001b[1;32m     30\u001b[0m \u001b[39m# print(\"x: %s, y: %s, z: %s\" % (x, y, z))\u001b[39;00m\n\u001b[0;32m---> 31\u001b[0m sleep(\u001b[39m1\u001b[39;49m)\n",
      "\u001b[0;31mKeyboardInterrupt\u001b[0m: "
     ]
    }
   ],
   "source": [
    "from re import A\n",
    "import socket\n",
    "import csv\n",
    "from datetime import datetime\n",
    "from IPython.display import clear_output\n",
    "from time import sleep\n",
    "\n",
    "UDP_IP = \"192.168.175.255\"\n",
    "UDP_PORT = 4210\n",
    "\n",
    "sock = socket.socket(socket.AF_INET, # Internet\n",
    "                     socket.SOCK_DGRAM) # UDP\n",
    "sock.bind((UDP_IP, UDP_PORT))\n",
    "\n",
    "fieldnames = [\"timestamp\", \"MagX\", \"MagY\", \"MagZ\"]\n",
    "file = open(\"data.csv\", \"a\")\n",
    "csv_writer = csv.DictWriter(file, fieldnames=fieldnames)\n",
    "csv_writer.writeheader()\n",
    "# for i in range(0, 100):\n",
    "while True:\n",
    "    data, addr = sock.recvfrom(64) # buffer size is 1024 bytes\n",
    "    print(data)\n",
    "    x, y, z = data.decode(\"utf-8\").split(\",\")\n",
    "    t = datetime.timestamp(datetime.now())\n",
    "    data = {\"timestamp\": t, \"MagX\": x, \"MagY\": y, \"MagZ\": z}\n",
    "    #print(\"received message: %s\" % data\n",
    "    csv_writer.writerow(data)\n",
    "    \n",
    "    clear_output(wait=True)\n",
    "    # print(\"x: %s, y: %s, z: %s\" % (x, y, z))\n",
    "    sleep(1)\n",
    "    \n",
    "\n"
   ]
  }
 ],
 "metadata": {
  "kernelspec": {
   "display_name": "Python 3.9.10 ('base')",
   "language": "python",
   "name": "python3"
  },
  "language_info": {
   "codemirror_mode": {
    "name": "ipython",
    "version": 3
   },
   "file_extension": ".py",
   "mimetype": "text/x-python",
   "name": "python",
   "nbconvert_exporter": "python",
   "pygments_lexer": "ipython3",
   "version": "3.9.13"
  },
  "orig_nbformat": 4,
  "vscode": {
   "interpreter": {
    "hash": "6d016ecfbbcbdb3de4516e8caa5fabda4133aadc9b8b7c9c7cb11d04cc2e37d6"
   }
  }
 },
 "nbformat": 4,
 "nbformat_minor": 2
}
