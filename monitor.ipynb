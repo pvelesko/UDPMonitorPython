{
 "cells": [
  {
   "cell_type": "code",
   "execution_count": null,
   "metadata": {},
   "outputs": [],
   "source": [
    "   1 import socket\n",
    "   2 \n",
    "   3 UDP_IP = \"192.168.1.255\"\n",
    "   4 UDP_PORT = 4210\n",
    "   5 \n",
    "   6 sock = socket.socket(socket.AF_INET, # Internet\n",
    "   7                      socket.SOCK_DGRAM) # UDP\n",
    "   8 sock.bind((UDP_IP, UDP_PORT))\n",
    "   9 \n",
    "  10 while True:\n",
    "  11     data, addr = sock.recvfrom(1024) # buffer size is 1024 bytes\n",
    "  12     print(\"received message: %s\" % data)"
   ]
  }
 ],
 "metadata": {
  "language_info": {
   "name": "python"
  },
  "orig_nbformat": 4
 },
 "nbformat": 4,
 "nbformat_minor": 2
}
