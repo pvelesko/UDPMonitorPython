{
 "cells": [
  {
   "cell_type": "code",
   "execution_count": 30,
   "metadata": {},
   "outputs": [
    {
     "ename": "KeyboardInterrupt",
     "evalue": "",
     "output_type": "error",
     "traceback": [
      "\u001b[0;31m---------------------------------------------------------------------------\u001b[0m",
      "\u001b[0;31mKeyboardInterrupt\u001b[0m                         Traceback (most recent call last)",
      "\u001b[1;32m/Users/pvelesko/local/UDPMonitorPython/monitor.ipynb Cell 1\u001b[0m in \u001b[0;36m<cell line: 16>\u001b[0;34m()\u001b[0m\n\u001b[1;32m     <a href='vscode-notebook-cell:/Users/pvelesko/local/UDPMonitorPython/monitor.ipynb#W0sZmlsZQ%3D%3D?line=13'>14</a>\u001b[0m \u001b[39m# for i in range(0, 100):\u001b[39;00m\n\u001b[1;32m     <a href='vscode-notebook-cell:/Users/pvelesko/local/UDPMonitorPython/monitor.ipynb#W0sZmlsZQ%3D%3D?line=14'>15</a>\u001b[0m \u001b[39mwhile\u001b[39;00m \u001b[39mTrue\u001b[39;00m:\n\u001b[0;32m---> <a href='vscode-notebook-cell:/Users/pvelesko/local/UDPMonitorPython/monitor.ipynb#W0sZmlsZQ%3D%3D?line=15'>16</a>\u001b[0m     data, addr \u001b[39m=\u001b[39m sock\u001b[39m.\u001b[39;49mrecvfrom(\u001b[39m1024\u001b[39;49m) \u001b[39m# buffer size is 1024 bytes\u001b[39;00m\n\u001b[1;32m     <a href='vscode-notebook-cell:/Users/pvelesko/local/UDPMonitorPython/monitor.ipynb#W0sZmlsZQ%3D%3D?line=16'>17</a>\u001b[0m     x, y, z \u001b[39m=\u001b[39m data\u001b[39m.\u001b[39mdecode(\u001b[39m\"\u001b[39m\u001b[39mutf-8\u001b[39m\u001b[39m\"\u001b[39m)\u001b[39m.\u001b[39msplit(\u001b[39m\"\u001b[39m\u001b[39m,\u001b[39m\u001b[39m\"\u001b[39m)\n\u001b[1;32m     <a href='vscode-notebook-cell:/Users/pvelesko/local/UDPMonitorPython/monitor.ipynb#W0sZmlsZQ%3D%3D?line=17'>18</a>\u001b[0m     t \u001b[39m=\u001b[39m datetime\u001b[39m.\u001b[39mtimestamp(datetime\u001b[39m.\u001b[39mnow())\n",
      "\u001b[0;31mKeyboardInterrupt\u001b[0m: "
     ]
    }
   ],
   "source": [
    "import socket\n",
    "import csv\n",
    "from datetime import datetime\n",
    "\n",
    "UDP_IP = \"192.168.1.255\"\n",
    "UDP_PORT = 4210\n",
    "\n",
    "sock = socket.socket(socket.AF_INET, # Internet\n",
    "                     socket.SOCK_DGRAM) # UDP\n",
    "sock.bind((UDP_IP, UDP_PORT))\n",
    "\n",
    "fieldnames = [\"timestamp\", \"MagX\", \"MagY\", \"MagZ\"]\n",
    "file = open(\"data.csv\", \"a\")\n",
    "csv_writer = csv.DictWriter(file, fieldnames=fieldnames)\n",
    "csv_writer.writeheader()\n",
    "# for i in range(0, 100):\n",
    "while True:\n",
    "    data, addr = sock.recvfrom(1024) # buffer size is 1024 bytes\n",
    "    x, y, z = data.decode(\"utf-8\").split(\",\")\n",
    "    t = datetime.timestamp(datetime.now())\n",
    "    data = {\"timestamp\": t, \"MagX\": x, \"MagY\": y, \"MagZ\": z}\n",
    "    #print(\"received message: %s\" % data\n",
    "    csv_writer.writerow(data)\n"
   ]
  },
  {
   "cell_type": "code",
   "execution_count": null,
   "metadata": {},
   "outputs": [],
   "source": []
  }
 ],
 "metadata": {
  "kernelspec": {
   "display_name": "Python 3.9.13 64-bit",
   "language": "python",
   "name": "python3"
  },
  "language_info": {
   "codemirror_mode": {
    "name": "ipython",
    "version": 3
   },
   "file_extension": ".py",
   "mimetype": "text/x-python",
   "name": "python",
   "nbconvert_exporter": "python",
   "pygments_lexer": "ipython3",
   "version": "3.9.13"
  },
  "orig_nbformat": 4,
  "vscode": {
   "interpreter": {
    "hash": "b0fa6594d8f4cbf19f97940f81e996739fb7646882a419484c72d19e05852a7e"
   }
  }
 },
 "nbformat": 4,
 "nbformat_minor": 2
}
